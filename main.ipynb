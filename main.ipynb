{
 "cells": [
  {
   "cell_type": "markdown",
   "id": "0558e191",
   "metadata": {},
   "source": [
    "# NLP Disaster Tweets Kaggle Mini-Project"
   ]
  },
  {
   "cell_type": "markdown",
   "id": "7868a73c",
   "metadata": {},
   "source": [
    "Plan:\n",
    "- EDA\n",
    "- Data Preprocessing\n",
    "  - Tokenization\n",
    "  - Stopword Removal\n",
    "  - (some other stuff based on EDA)\n",
    "  - Lemmatization\n",
    "  - Vectorization\n",
    "- Model Training\n",
    "  - Baseline Model (Vanilla RNN)\n",
    "  - LSTM\n",
    "  - GRU (Maybe)\n",
    "  - Fine-tuning (pre-trained embeddings, hyperparameter tuning)?\n",
    "  - (maybe some transformer model if time permits)\n",
    "- Model Evaluation\n",
    "  - Accuracy\n",
    "  - Precision, Recall, F1-Score\n",
    "  - Confusion Matrix\n",
    "- Conclusion and Future Work"
   ]
  },
  {
   "cell_type": "code",
   "execution_count": 28,
   "id": "0a6e552e",
   "metadata": {},
   "outputs": [],
   "source": [
    "import pandas as pd\n",
    "import numpy as np\n",
    "import matplotlib.pyplot as plt\n",
    "import seaborn as sns\n",
    "import re\n",
    "from cleantext import clean\n",
    "import html\n",
    "import torch\n",
    "from torch.utils.data import Dataset, DataLoader\n",
    "\n",
    "import torch.nn as nn\n",
    "from sklearn.metrics import roc_auc_score, roc_curve, confusion_matrix, ConfusionMatrixDisplay\n",
    "from sklearn.model_selection import train_test_split\n"
   ]
  },
  {
   "cell_type": "code",
   "execution_count": 5,
   "id": "f7655c9a",
   "metadata": {},
   "outputs": [],
   "source": [
    "DATA_DIR = \"./data\"\n",
    "SEED = 42"
   ]
  },
  {
   "cell_type": "markdown",
   "id": "e9eb90a6",
   "metadata": {},
   "source": [
    "## EDA"
   ]
  },
  {
   "cell_type": "code",
   "execution_count": 3,
   "id": "2afc8e53",
   "metadata": {},
   "outputs": [
    {
     "data": {
      "text/html": [
       "<div>\n",
       "<style scoped>\n",
       "    .dataframe tbody tr th:only-of-type {\n",
       "        vertical-align: middle;\n",
       "    }\n",
       "\n",
       "    .dataframe tbody tr th {\n",
       "        vertical-align: top;\n",
       "    }\n",
       "\n",
       "    .dataframe thead th {\n",
       "        text-align: right;\n",
       "    }\n",
       "</style>\n",
       "<table border=\"1\" class=\"dataframe\">\n",
       "  <thead>\n",
       "    <tr style=\"text-align: right;\">\n",
       "      <th></th>\n",
       "      <th>id</th>\n",
       "      <th>keyword</th>\n",
       "      <th>location</th>\n",
       "      <th>text</th>\n",
       "      <th>target</th>\n",
       "    </tr>\n",
       "  </thead>\n",
       "  <tbody>\n",
       "    <tr>\n",
       "      <th>0</th>\n",
       "      <td>1</td>\n",
       "      <td>NaN</td>\n",
       "      <td>NaN</td>\n",
       "      <td>Our Deeds are the Reason of this #earthquake M...</td>\n",
       "      <td>1</td>\n",
       "    </tr>\n",
       "    <tr>\n",
       "      <th>1</th>\n",
       "      <td>4</td>\n",
       "      <td>NaN</td>\n",
       "      <td>NaN</td>\n",
       "      <td>Forest fire near La Ronge Sask. Canada</td>\n",
       "      <td>1</td>\n",
       "    </tr>\n",
       "    <tr>\n",
       "      <th>2</th>\n",
       "      <td>5</td>\n",
       "      <td>NaN</td>\n",
       "      <td>NaN</td>\n",
       "      <td>All residents asked to 'shelter in place' are ...</td>\n",
       "      <td>1</td>\n",
       "    </tr>\n",
       "    <tr>\n",
       "      <th>3</th>\n",
       "      <td>6</td>\n",
       "      <td>NaN</td>\n",
       "      <td>NaN</td>\n",
       "      <td>13,000 people receive #wildfires evacuation or...</td>\n",
       "      <td>1</td>\n",
       "    </tr>\n",
       "    <tr>\n",
       "      <th>4</th>\n",
       "      <td>7</td>\n",
       "      <td>NaN</td>\n",
       "      <td>NaN</td>\n",
       "      <td>Just got sent this photo from Ruby #Alaska as ...</td>\n",
       "      <td>1</td>\n",
       "    </tr>\n",
       "  </tbody>\n",
       "</table>\n",
       "</div>"
      ],
      "text/plain": [
       "   id keyword location                                               text  \\\n",
       "0   1     NaN      NaN  Our Deeds are the Reason of this #earthquake M...   \n",
       "1   4     NaN      NaN             Forest fire near La Ronge Sask. Canada   \n",
       "2   5     NaN      NaN  All residents asked to 'shelter in place' are ...   \n",
       "3   6     NaN      NaN  13,000 people receive #wildfires evacuation or...   \n",
       "4   7     NaN      NaN  Just got sent this photo from Ruby #Alaska as ...   \n",
       "\n",
       "   target  \n",
       "0       1  \n",
       "1       1  \n",
       "2       1  \n",
       "3       1  \n",
       "4       1  "
      ]
     },
     "execution_count": 3,
     "metadata": {},
     "output_type": "execute_result"
    }
   ],
   "source": [
    "df = pd.read_csv(f\"{DATA_DIR}/train.csv\")\n",
    "df.head()"
   ]
  },
  {
   "cell_type": "code",
   "execution_count": 4,
   "id": "5605e8b3",
   "metadata": {},
   "outputs": [
    {
     "name": "stdout",
     "output_type": "stream",
     "text": [
      "<class 'pandas.core.frame.DataFrame'>\n",
      "RangeIndex: 7613 entries, 0 to 7612\n",
      "Data columns (total 5 columns):\n",
      " #   Column    Non-Null Count  Dtype \n",
      "---  ------    --------------  ----- \n",
      " 0   id        7613 non-null   int64 \n",
      " 1   keyword   7552 non-null   object\n",
      " 2   location  5080 non-null   object\n",
      " 3   text      7613 non-null   object\n",
      " 4   target    7613 non-null   int64 \n",
      "dtypes: int64(2), object(3)\n",
      "memory usage: 297.5+ KB\n"
     ]
    }
   ],
   "source": [
    "df.info()"
   ]
  },
  {
   "cell_type": "code",
   "execution_count": 5,
   "id": "fffdea51",
   "metadata": {},
   "outputs": [
    {
     "data": {
      "text/html": [
       "<div>\n",
       "<style scoped>\n",
       "    .dataframe tbody tr th:only-of-type {\n",
       "        vertical-align: middle;\n",
       "    }\n",
       "\n",
       "    .dataframe tbody tr th {\n",
       "        vertical-align: top;\n",
       "    }\n",
       "\n",
       "    .dataframe thead th {\n",
       "        text-align: right;\n",
       "    }\n",
       "</style>\n",
       "<table border=\"1\" class=\"dataframe\">\n",
       "  <thead>\n",
       "    <tr style=\"text-align: right;\">\n",
       "      <th></th>\n",
       "      <th>id</th>\n",
       "      <th>target</th>\n",
       "    </tr>\n",
       "  </thead>\n",
       "  <tbody>\n",
       "    <tr>\n",
       "      <th>count</th>\n",
       "      <td>7613.000000</td>\n",
       "      <td>7613.00000</td>\n",
       "    </tr>\n",
       "    <tr>\n",
       "      <th>mean</th>\n",
       "      <td>5441.934848</td>\n",
       "      <td>0.42966</td>\n",
       "    </tr>\n",
       "    <tr>\n",
       "      <th>std</th>\n",
       "      <td>3137.116090</td>\n",
       "      <td>0.49506</td>\n",
       "    </tr>\n",
       "    <tr>\n",
       "      <th>min</th>\n",
       "      <td>1.000000</td>\n",
       "      <td>0.00000</td>\n",
       "    </tr>\n",
       "    <tr>\n",
       "      <th>25%</th>\n",
       "      <td>2734.000000</td>\n",
       "      <td>0.00000</td>\n",
       "    </tr>\n",
       "    <tr>\n",
       "      <th>50%</th>\n",
       "      <td>5408.000000</td>\n",
       "      <td>0.00000</td>\n",
       "    </tr>\n",
       "    <tr>\n",
       "      <th>75%</th>\n",
       "      <td>8146.000000</td>\n",
       "      <td>1.00000</td>\n",
       "    </tr>\n",
       "    <tr>\n",
       "      <th>max</th>\n",
       "      <td>10873.000000</td>\n",
       "      <td>1.00000</td>\n",
       "    </tr>\n",
       "  </tbody>\n",
       "</table>\n",
       "</div>"
      ],
      "text/plain": [
       "                 id      target\n",
       "count   7613.000000  7613.00000\n",
       "mean    5441.934848     0.42966\n",
       "std     3137.116090     0.49506\n",
       "min        1.000000     0.00000\n",
       "25%     2734.000000     0.00000\n",
       "50%     5408.000000     0.00000\n",
       "75%     8146.000000     1.00000\n",
       "max    10873.000000     1.00000"
      ]
     },
     "execution_count": 5,
     "metadata": {},
     "output_type": "execute_result"
    }
   ],
   "source": [
    "df.describe()"
   ]
  },
  {
   "cell_type": "code",
   "execution_count": 6,
   "id": "ee66dbd1",
   "metadata": {},
   "outputs": [
    {
     "name": "stdout",
     "output_type": "stream",
     "text": [
      "Positive samples: 3271\n",
      "Negative samples: 4342\n"
     ]
    },
    {
     "data": {
      "image/png": "[encoded data removed]",
      "text/plain": [
       "<Figure size 640x480 with 1 Axes>"
      ]
     },
     "metadata": {},
     "output_type": "display_data"
    }
   ],
   "source": [
    "positive = df[df['target'] == 1]\n",
    "negative = df[df['target'] == 0]\n",
    "print(f\"Positive samples: {len(positive)}\")\n",
    "print(f\"Negative samples: {len(negative)}\")\n",
    "\n",
    "# plot the distribution of target variable\n",
    "sns.countplot(x='target', data=df)\n",
    "plt.title('Distribution of Target Variable')\n",
    "plt.xlabel('Target')\n",
    "plt.ylabel('Count')\n",
    "plt.show()"
   ]
  },
  {
   "cell_type": "code",
   "execution_count": 7,
   "id": "eaf75dd9",
   "metadata": {},
   "outputs": [
    {
     "name": "stdout",
     "output_type": "stream",
     "text": [
      "Duplicate tweets: 110, duplicated rows: 0\n"
     ]
    }
   ],
   "source": [
    "duplicated_rows = df.duplicated()\n",
    "\n",
    "duplicates_texts = df.duplicated(subset=[\"text\"])\n",
    "\n",
    "print(f\"Duplicate tweets: {duplicates_texts.sum()}, duplicated rows: {duplicated_rows.sum()}\")\n"
   ]
  },
  {
   "cell_type": "code",
   "execution_count": 8,
   "id": "2ce28c4e",
   "metadata": {},
   "outputs": [
    {
     "data": {
      "text/plain": [
       "target\n",
       "0    37\n",
       "1    73\n",
       "dtype: int64"
      ]
     },
     "execution_count": 8,
     "metadata": {},
     "output_type": "execute_result"
    }
   ],
   "source": [
    "df.duplicated(subset=[\"text\"]).groupby(df['target']).sum()"
   ]
  },
  {
   "cell_type": "code",
   "execution_count": 9,
   "id": "eb41e09f",
   "metadata": {},
   "outputs": [
    {
     "data": {
      "text/html": [
       "<div>\n",
       "<style scoped>\n",
       "    .dataframe tbody tr th:only-of-type {\n",
       "        vertical-align: middle;\n",
       "    }\n",
       "\n",
       "    .dataframe tbody tr th {\n",
       "        vertical-align: top;\n",
       "    }\n",
       "\n",
       "    .dataframe thead th {\n",
       "        text-align: right;\n",
       "    }\n",
       "</style>\n",
       "<table border=\"1\" class=\"dataframe\">\n",
       "  <thead>\n",
       "    <tr style=\"text-align: right;\">\n",
       "      <th></th>\n",
       "      <th>id</th>\n",
       "      <th>keyword</th>\n",
       "      <th>location</th>\n",
       "      <th>text</th>\n",
       "      <th>target</th>\n",
       "    </tr>\n",
       "  </thead>\n",
       "  <tbody>\n",
       "    <tr>\n",
       "      <th>4299</th>\n",
       "      <td>6105</td>\n",
       "      <td>hellfire</td>\n",
       "      <td>?????? ??? ?????? ????????</td>\n",
       "      <td>#Allah describes piling up #wealth thinking it...</td>\n",
       "      <td>0</td>\n",
       "    </tr>\n",
       "    <tr>\n",
       "      <th>4312</th>\n",
       "      <td>6123</td>\n",
       "      <td>hellfire</td>\n",
       "      <td>?????? ???? ??????</td>\n",
       "      <td>#Allah describes piling up #wealth thinking it...</td>\n",
       "      <td>1</td>\n",
       "    </tr>\n",
       "    <tr>\n",
       "      <th>6366</th>\n",
       "      <td>9098</td>\n",
       "      <td>suicide%20bomb</td>\n",
       "      <td>Nigeria</td>\n",
       "      <td>#Bestnaijamade: 16yr old PKK suicide bomber wh...</td>\n",
       "      <td>1</td>\n",
       "    </tr>\n",
       "    <tr>\n",
       "      <th>6373</th>\n",
       "      <td>9107</td>\n",
       "      <td>suicide%20bomb</td>\n",
       "      <td>Nigeria</td>\n",
       "      <td>#Bestnaijamade: 16yr old PKK suicide bomber wh...</td>\n",
       "      <td>1</td>\n",
       "    </tr>\n",
       "    <tr>\n",
       "      <th>6392</th>\n",
       "      <td>9135</td>\n",
       "      <td>suicide%20bomb</td>\n",
       "      <td>Nigeria</td>\n",
       "      <td>#Bestnaijamade: 16yr old PKK suicide bomber wh...</td>\n",
       "      <td>1</td>\n",
       "    </tr>\n",
       "    <tr>\n",
       "      <th>...</th>\n",
       "      <td>...</td>\n",
       "      <td>...</td>\n",
       "      <td>...</td>\n",
       "      <td>...</td>\n",
       "      <td>...</td>\n",
       "    </tr>\n",
       "    <tr>\n",
       "      <th>3461</th>\n",
       "      <td>4952</td>\n",
       "      <td>exploded</td>\n",
       "      <td>NaN</td>\n",
       "      <td>that exploded &amp;amp; brought about the\\nbeginni...</td>\n",
       "      <td>0</td>\n",
       "    </tr>\n",
       "    <tr>\n",
       "      <th>6103</th>\n",
       "      <td>8714</td>\n",
       "      <td>sinking</td>\n",
       "      <td>NaN</td>\n",
       "      <td>that horrible sinking feeling when youÛªve be...</td>\n",
       "      <td>0</td>\n",
       "    </tr>\n",
       "    <tr>\n",
       "      <th>6094</th>\n",
       "      <td>8702</td>\n",
       "      <td>sinking</td>\n",
       "      <td>NaN</td>\n",
       "      <td>that horrible sinking feeling when youÛªve be...</td>\n",
       "      <td>0</td>\n",
       "    </tr>\n",
       "    <tr>\n",
       "      <th>6123</th>\n",
       "      <td>8739</td>\n",
       "      <td>sinking</td>\n",
       "      <td>MA</td>\n",
       "      <td>that horrible sinking feeling when youÛªve be...</td>\n",
       "      <td>1</td>\n",
       "    </tr>\n",
       "    <tr>\n",
       "      <th>5641</th>\n",
       "      <td>8044</td>\n",
       "      <td>refugees</td>\n",
       "      <td>NaN</td>\n",
       "      <td>wowo--=== 12000 Nigerian refugees repatriated ...</td>\n",
       "      <td>0</td>\n",
       "    </tr>\n",
       "  </tbody>\n",
       "</table>\n",
       "<p>110 rows × 5 columns</p>\n",
       "</div>"
      ],
      "text/plain": [
       "        id         keyword                    location  \\\n",
       "4299  6105        hellfire  ?????? ??? ?????? ????????   \n",
       "4312  6123        hellfire          ?????? ???? ??????   \n",
       "6366  9098  suicide%20bomb                     Nigeria   \n",
       "6373  9107  suicide%20bomb                     Nigeria   \n",
       "6392  9135  suicide%20bomb                     Nigeria   \n",
       "...    ...             ...                         ...   \n",
       "3461  4952        exploded                         NaN   \n",
       "6103  8714         sinking                         NaN   \n",
       "6094  8702         sinking                         NaN   \n",
       "6123  8739         sinking                          MA   \n",
       "5641  8044        refugees                         NaN   \n",
       "\n",
       "                                                   text  target  \n",
       "4299  #Allah describes piling up #wealth thinking it...       0  \n",
       "4312  #Allah describes piling up #wealth thinking it...       1  \n",
       "6366  #Bestnaijamade: 16yr old PKK suicide bomber wh...       1  \n",
       "6373  #Bestnaijamade: 16yr old PKK suicide bomber wh...       1  \n",
       "6392  #Bestnaijamade: 16yr old PKK suicide bomber wh...       1  \n",
       "...                                                 ...     ...  \n",
       "3461  that exploded &amp; brought about the\\nbeginni...       0  \n",
       "6103  that horrible sinking feeling when youÛªve be...       0  \n",
       "6094  that horrible sinking feeling when youÛªve be...       0  \n",
       "6123  that horrible sinking feeling when youÛªve be...       1  \n",
       "5641  wowo--=== 12000 Nigerian refugees repatriated ...       0  \n",
       "\n",
       "[110 rows x 5 columns]"
      ]
     },
     "execution_count": 9,
     "metadata": {},
     "output_type": "execute_result"
    }
   ],
   "source": [
    "df[df[\"id\"].isin(df[duplicates_texts][\"id\"])].sort_values(\"text\")"
   ]
  },
  {
   "cell_type": "markdown",
   "id": "06481565",
   "metadata": {},
   "source": [
    "## Data Preprocessing\n"
   ]
  },
  {
   "cell_type": "code",
   "execution_count": 6,
   "id": "625064c7",
   "metadata": {},
   "outputs": [],
   "source": [
    "train_df = pd.read_csv(f\"{DATA_DIR}/train.csv\")\n",
    "test_df = pd.read_csv(f\"{DATA_DIR}/test.csv\")"
   ]
  },
  {
   "cell_type": "code",
   "execution_count": 7,
   "id": "d23dd782",
   "metadata": {},
   "outputs": [],
   "source": [
    "MENTION_RE = re.compile(r'@\\w+')\n",
    "HASHTAG_RE = re.compile(r'#(\\w+)')\n",
    "RT_RE = re.compile(r'\\brt\\b', flags=re.IGNORECASE)\n",
    "\n",
    "def clean_tweet(text):\n",
    "    s = \"\" if text is None else str(text)\n",
    "    # decode HTML entities\n",
    "    s = html.unescape(s)\n",
    "\n",
    "    # 2) general cleanup using clean-text library\n",
    "    s = clean(\n",
    "        s,\n",
    "        lower=True,\n",
    "        no_urls=True,\n",
    "        no_emails=True,\n",
    "        fix_unicode=True,\n",
    "        no_emoji=True,\n",
    "        no_line_breaks=True,\n",
    "        no_currency_symbols=True,\n",
    "        no_punct=False,\n",
    "        replace_with_url=\"\",\n",
    "        replace_with_email=\"\"\n",
    "    )\n",
    "\n",
    "    # 3) tweet-specific rules\n",
    "    s = MENTION_RE.sub(\"\", s)         # remove @mentions\n",
    "    s = HASHTAG_RE.sub(r\"\\1\", s)      # keep hashtag word, drop '#'\n",
    "    s = RT_RE.sub(\"\", s)              # remove RT token\n",
    "\n",
    "    # 4) normalize whitespace\n",
    "    s = \" \".join(s.split())\n",
    "    return s\n",
    "\n",
    "train_df['cleaned_text'] = train_df['text'].apply(clean_tweet)\n"
   ]
  },
  {
   "cell_type": "code",
   "execution_count": 8,
   "id": "90089045",
   "metadata": {},
   "outputs": [
    {
     "name": "stdout",
     "output_type": "stream",
     "text": [
      "&lt;&lt; his lip as he sunk into the bed his arms crossed behind his head as he watched his Captain do a number on his body. @ResoluteShield\n",
      "-----\n",
      "<< his lip as he sunk into the bed his arms crossed behind his head as he watched his captain do a number on his body.\n"
     ]
    }
   ],
   "source": [
    "print(train_df[train_df['id'] == 9278]['text'].values[0])\n",
    "print(\"-----\")\n",
    "print(train_df[train_df['id'] == 9278]['cleaned_text'].values[0])"
   ]
  },
  {
   "cell_type": "markdown",
   "id": "00f98298",
   "metadata": {},
   "source": [
    "## Tokenization"
   ]
  },
  {
   "cell_type": "code",
   "execution_count": 9,
   "id": "28624696",
   "metadata": {},
   "outputs": [],
   "source": [
    "class TweetDataset(Dataset):\n",
    "    def __init__(self, df, max_len=32):\n",
    "        self.texts = df['cleaned_text'].tolist()\n",
    "        self.labels = df['target'].tolist()\n",
    "        self.max_len = max_len\n",
    "\n",
    "    def __len__(self):\n",
    "        return len(self.texts)\n",
    "\n",
    "    def __getitem__(self, idx):\n",
    "        encoded = encode(self.texts[idx])\n",
    "        padded = encoded[:self.max_len] + [0]*(self.max_len - len(encoded))\n",
    "        return torch.tensor(padded), torch.tensor(self.labels[idx])"
   ]
  },
  {
   "cell_type": "markdown",
   "id": "d9150dfc",
   "metadata": {},
   "source": [
    "# pytorch vanilla rnn for tweets\n"
   ]
  },
  {
   "cell_type": "code",
   "execution_count": 20,
   "id": "5b019bd2",
   "metadata": {},
   "outputs": [],
   "source": [
    "\n",
    "\n",
    "# Simple tokenizer and vocab builder\n",
    "def tokenize(text):\n",
    "    return text.split()\n",
    "\n",
    "vocab = set()\n",
    "for text in train_df['cleaned_text']:\n",
    "    vocab.update(tokenize(text))\n",
    "word2idx = {word: idx+1 for idx, word in enumerate(vocab)}  # 0 for padding\n",
    "\n",
    "def encode(text):\n",
    "    return [word2idx.get(word, 0) for word in tokenize(text)]\n",
    "\n",
    "# Prepare dataset\n",
    "\n",
    "\n",
    "dataset = TweetDataset(train_df)\n",
    "dataloader = DataLoader(dataset, batch_size=32, shuffle=True)\n",
    "\n",
    "# Vanilla RNN model\n",
    "class VanillaRNN(nn.Module):\n",
    "    def __init__(self, vocab_size, embed_dim=64, hidden_dim=64, num_classes=2):\n",
    "        super().__init__()\n",
    "        self.embedding = nn.Embedding(vocab_size+1, embed_dim, padding_idx=0)\n",
    "        self.rnn = nn.RNN(embed_dim, hidden_dim, batch_first=True)\n",
    "        self.fc = nn.Linear(hidden_dim, num_classes)\n",
    "\n",
    "    def forward(self, x):\n",
    "        x = self.embedding(x)\n",
    "        _, h_n = self.rnn(x)\n",
    "        out = self.fc(h_n.squeeze(0))\n",
    "        return out\n",
    "\n",
    "model = VanillaRNN(len(word2idx))"
   ]
  },
  {
   "cell_type": "code",
   "execution_count": 29,
   "id": "e3ba5e8a",
   "metadata": {},
   "outputs": [],
   "source": [
    "\n",
    "X = train_df[\"text\"]\n",
    "y = train_df[\"target\"]\n",
    "\n",
    "X_train, X_val, y_train, y_val = train_test_split(X, y, test_size=0.2, random_state=SEED)\n"
   ]
  },
  {
   "cell_type": "code",
   "execution_count": 24,
   "id": "970d1046",
   "metadata": {},
   "outputs": [
    {
     "name": "stdout",
     "output_type": "stream",
     "text": [
      "Epoch 1/10, Loss: 0.3949, Train Acc: 0.8270, Val Acc: 0.8617, AUC: 0.9315, F1: 0.8360\n",
      "Epoch 2/10, Loss: 0.3460, Train Acc: 0.8564, Val Acc: 0.8704, AUC: 0.9414, F1: 0.8481\n",
      "Epoch 3/10, Loss: 0.3009, Train Acc: 0.8760, Val Acc: 0.9045, AUC: 0.9629, F1: 0.8885\n",
      "Epoch 4/10, Loss: 0.2620, Train Acc: 0.8965, Val Acc: 0.9113, AUC: 0.9674, F1: 0.8965\n",
      "Epoch 5/10, Loss: 0.2427, Train Acc: 0.9041, Val Acc: 0.9023, AUC: 0.9617, F1: 0.8857\n",
      "Epoch 6/10, Loss: 0.2167, Train Acc: 0.9136, Val Acc: 0.9329, AUC: 0.9807, F1: 0.9213\n",
      "Epoch 7/10, Loss: 0.1932, Train Acc: 0.9259, Val Acc: 0.9392, AUC: 0.9814, F1: 0.9291\n",
      "Epoch 8/10, Loss: 0.1645, Train Acc: 0.9376, Val Acc: 0.9447, AUC: 0.9867, F1: 0.9352\n",
      "Epoch 9/10, Loss: 0.1454, Train Acc: 0.9468, Val Acc: 0.9590, AUC: 0.9914, F1: 0.9519\n",
      "Epoch 10/10, Loss: 0.1409, Train Acc: 0.9480, Val Acc: 0.9573, AUC: 0.9910, F1: 0.9501\n",
      "best model state: OrderedDict({'embedding.weight': tensor([[ 0.0564, -0.0120, -0.0172,  ...,  0.0173, -0.0552,  0.0119],\n",
      "        [ 0.8125, -0.1622,  0.5310,  ...,  1.0054, -0.5295, -1.7171],\n",
      "        [-1.3393, -0.9129, -1.1934,  ..., -0.2669,  1.1258, -0.7955],\n",
      "        ...,\n",
      "        [-0.2201, -0.1167, -0.2663,  ...,  0.3149, -0.5653,  0.4631],\n",
      "        [-0.6173,  0.4256, -0.5973,  ..., -0.4179,  0.7833,  0.1772],\n",
      "        [-0.2034,  0.8300,  0.0114,  ...,  0.6072, -1.2483,  0.2076]],\n",
      "       device='mps:0'), 'rnn.weight_ih_l0': tensor([[ 0.1019, -0.0769, -0.0752,  ..., -0.0832, -0.0407, -0.0297],\n",
      "        [ 0.2019, -0.0538, -0.0745,  ..., -0.2053, -0.0837, -0.0402],\n",
      "        [-0.0508,  0.1456, -0.1562,  ...,  0.1867,  0.1229, -0.1247],\n",
      "        ...,\n",
      "        [ 0.0129, -0.1480, -0.0695,  ..., -0.1762,  0.0980, -0.1360],\n",
      "        [ 0.0190, -0.0184, -0.0840,  ...,  0.0739, -0.1406, -0.2660],\n",
      "        [-0.0259, -0.2598,  0.1047,  ...,  0.0859,  0.0067, -0.1879]],\n",
      "       device='mps:0'), 'rnn.weight_hh_l0': tensor([[-0.0093, -0.1342,  0.0124,  ..., -0.0214,  0.1224,  0.0540],\n",
      "        [ 0.0551,  0.0919,  0.0889,  ..., -0.0682, -0.0620,  0.0166],\n",
      "        [-0.1395,  0.0144,  0.0201,  ...,  0.1273,  0.0450,  0.0965],\n",
      "        ...,\n",
      "        [ 0.1344, -0.1102,  0.0541,  ..., -0.2075,  0.0222, -0.0577],\n",
      "        [ 0.2525,  0.1765, -0.1552,  ...,  0.1389,  0.0350, -0.0901],\n",
      "        [ 0.0613, -0.0212, -0.1305,  ...,  0.0444,  0.1712,  0.0523]],\n",
      "       device='mps:0'), 'rnn.bias_ih_l0': tensor([-0.0765, -0.0494,  0.0653, -0.1512, -0.0022, -0.0646,  0.0807, -0.0210,\n",
      "        -0.0108,  0.0802,  0.0511, -0.1397, -0.0125, -0.0120, -0.0339,  0.0099,\n",
      "        -0.2703,  0.2616,  0.0672,  0.1411,  0.1210,  0.1591, -0.0656,  0.1873,\n",
      "         0.0314, -0.1251, -0.0496, -0.1017, -0.2064,  0.0046,  0.0483,  0.0976,\n",
      "        -0.0434,  0.1117, -0.0352, -0.2384, -0.0087, -0.0908,  0.0293, -0.0298,\n",
      "        -0.0723, -0.0647, -0.0226, -0.0369,  0.0186,  0.0512,  0.1143, -0.1223,\n",
      "         0.1020, -0.1213, -0.0425,  0.0413,  0.0464, -0.1751, -0.0766, -0.1723,\n",
      "        -0.0104,  0.0697, -0.0672, -0.0576,  0.0488,  0.0890, -0.0392, -0.0751],\n",
      "       device='mps:0'), 'rnn.bias_hh_l0': tensor([ 0.0604,  0.0025, -0.0290, -0.0262, -0.1155, -0.0417, -0.0174,  0.0816,\n",
      "         0.1702, -0.0945,  0.0381,  0.0775, -0.0412, -0.0582,  0.0560,  0.1625,\n",
      "        -0.0705,  0.0278,  0.0761,  0.1235,  0.1272, -0.0229,  0.1139,  0.1758,\n",
      "        -0.0769, -0.1424, -0.0523,  0.0420,  0.0174, -0.2079,  0.0246,  0.2252,\n",
      "        -0.0768, -0.0726,  0.0233, -0.2200, -0.0350, -0.0890,  0.2045, -0.0112,\n",
      "        -0.0777, -0.0966, -0.1369, -0.0958,  0.0256,  0.0215, -0.0840, -0.0132,\n",
      "         0.0757, -0.0602,  0.1323,  0.0404, -0.0273, -0.0020,  0.0707,  0.0219,\n",
      "        -0.0844, -0.0338, -0.2002, -0.1911,  0.1550,  0.0941,  0.0924, -0.0592],\n",
      "       device='mps:0'), 'fc.weight': tensor([[ 0.0226, -0.0470,  0.1624,  0.1394,  0.1045, -0.0925, -0.1552, -0.0396,\n",
      "          0.0963, -0.1202, -0.1238, -0.0391,  0.2039,  0.0133, -0.1155, -0.0283,\n",
      "         -0.0928, -0.1431, -0.0381, -0.0469,  0.1129, -0.0922,  0.0191, -0.2086,\n",
      "         -0.2174, -0.1392, -0.1455, -0.1586, -0.0296,  0.2584,  0.0627, -0.0889,\n",
      "         -0.0360, -0.2506,  0.1271,  0.1449,  0.1105,  0.0202, -0.0137,  0.1383,\n",
      "          0.1535, -0.1022,  0.1829, -0.1226, -0.0335, -0.1848,  0.0796,  0.1481,\n",
      "          0.0410,  0.1520, -0.0698,  0.1264,  0.1601, -0.1463, -0.1634, -0.0483,\n",
      "          0.0057, -0.1045,  0.0990,  0.1673,  0.0988, -0.0369, -0.0829, -0.1841],\n",
      "        [-0.0628, -0.0288, -0.1233, -0.0688, -0.0988,  0.1322,  0.0222,  0.0898,\n",
      "         -0.2100,  0.0387,  0.0657,  0.2092, -0.0672,  0.0421, -0.0061, -0.1009,\n",
      "          0.0431,  0.2306,  0.0914,  0.1892,  0.0765,  0.0123, -0.1224,  0.1268,\n",
      "          0.2474,  0.1109, -0.0538,  0.0348,  0.1562, -0.1303, -0.0135,  0.0941,\n",
      "         -0.0116,  0.0882, -0.0736, -0.1891, -0.0061, -0.1979, -0.0058, -0.1786,\n",
      "         -0.0293,  0.1495, -0.0397, -0.0140, -0.1630,  0.0079, -0.1568, -0.0978,\n",
      "         -0.0225,  0.0620,  0.0162, -0.0715, -0.1408, -0.0449, -0.0042,  0.0037,\n",
      "          0.1521,  0.2153, -0.0998,  0.0140, -0.0219, -0.0643,  0.1578,  0.1704]],\n",
      "       device='mps:0'), 'fc.bias': tensor([ 0.1098, -0.1121], device='mps:0')})\n"
     ]
    }
   ],
   "source": [
    "from sklearn.metrics import f1_score\n",
    "\n",
    "best_f1 = 0\n",
    "patience = 3\n",
    "patience_counter = 0\n",
    "\n",
    "torch.manual_seed(SEED)\n",
    "\n",
    "device = \"mps\"\n",
    "model = model.to(device)\n",
    "optimizer = torch.optim.Adam(model.parameters(), lr=1e-3)\n",
    "criterion = nn.CrossEntropyLoss()\n",
    "best_model_state = {}\n",
    "\n",
    "num_epochs = 10\n",
    "for epoch in range(num_epochs):\n",
    "    model.train()\n",
    "    total_loss = 0\n",
    "    correct = 0\n",
    "    total = 0\n",
    "    for batch_x, batch_y in dataloader:\n",
    "        batch_x, batch_y = batch_x.to(device), batch_y.to(device)\n",
    "        optimizer.zero_grad()\n",
    "        outputs = model(batch_x)\n",
    "        loss = criterion(outputs, batch_y)\n",
    "        loss.backward()\n",
    "        optimizer.step()\n",
    "        total_loss += loss.item()\n",
    "        preds = torch.argmax(outputs, dim=1)\n",
    "        correct += (preds == batch_y).sum().item()\n",
    "        total += batch_y.size(0)\n",
    "    avg_loss = total_loss / len(dataloader)\n",
    "    train_acc = correct / total\n",
    "\n",
    "    # Validation on train set (since no val split yet)\n",
    "    model.eval()\n",
    "    val_correct = 0\n",
    "    val_total = 0\n",
    "    all_probs = []\n",
    "    all_labels = []\n",
    "    all_val_preds = []\n",
    "    with torch.no_grad():\n",
    "        for batch_x, batch_y in dataloader:\n",
    "            batch_x, batch_y = batch_x.to(device), batch_y.to(device)\n",
    "            outputs = model(batch_x)\n",
    "            probs = torch.softmax(outputs, dim=1)[:, 1].cpu().numpy()\n",
    "            preds = torch.argmax(outputs, dim=1)\n",
    "            val_correct += (preds == batch_y).sum().item()\n",
    "            val_total += batch_y.size(0)\n",
    "            all_probs.extend(probs)\n",
    "            all_labels.extend(batch_y.cpu().numpy())\n",
    "            all_val_preds.extend(preds.cpu().numpy())\n",
    "    val_acc = val_correct / val_total\n",
    "    auc = roc_auc_score(all_labels, all_probs)\n",
    "    f1 = f1_score(all_labels, all_val_preds)\n",
    "    print(f\"Epoch {epoch+1}/{num_epochs}, Loss: {avg_loss:.4f}, Train Acc: {train_acc:.4f}, Val Acc: {val_acc:.4f}, AUC: {auc:.4f}, F1: {f1:.4f}\")\n",
    "\n",
    "    # Early stopping based on F1 score\n",
    "    if f1 > best_f1:\n",
    "        best_f1 = f1\n",
    "        patience_counter = 0\n",
    "        best_model_state = model.state_dict()\n",
    "    else:\n",
    "        patience_counter += 1\n",
    "        if patience_counter >= patience:\n",
    "            print(f\"Early stopping at epoch {epoch+1}. Best F1: {best_f1:.4f}\")\n",
    "            model.load_state_dict(best_model_state)\n",
    "            break\n",
    "\n",
    "print(f\"best model state: {best_model_state}\")"
   ]
  },
  {
   "cell_type": "code",
   "execution_count": null,
   "id": "fd8c1cd0",
   "metadata": {},
   "outputs": [
    {
     "name": "stdout",
     "output_type": "stream",
     "text": [
      "AUC: 0.9910\n"
     ]
    },
    {
     "data": {
      "image/png": "[encoded data removed]",
      "text/plain": [
       "<Figure size 640x480 with 1 Axes>"
      ]
     },
     "metadata": {},
     "output_type": "display_data"
    },
    {
     "name": "stderr",
     "output_type": "stream",
     "text": [
      "/var/folders/7_/b5vyj4yn7d71c_559xynhb300000gn/T/ipykernel_97038/2865187515.py:36: MatplotlibDeprecationWarning: The get_cmap function was deprecated in Matplotlib 3.7 and will be removed in 3.11. Use ``matplotlib.colormaps[name]`` or ``matplotlib.colormaps.get_cmap()`` or ``pyplot.get_cmap()`` instead.\n",
      "  disp.plot(cmap=plt.cm.get_cmap(\"Blues\"))\n"
     ]
    },
    {
     "data": {
      "image/png": "[encoded data removed]",
      "text/plain": [
       "<Figure size 640x480 with 2 Axes>"
      ]
     },
     "metadata": {},
     "output_type": "display_data"
    }
   ],
   "source": [
    "\n",
    "# Collect predictions and true labels from the training set\n",
    "\n",
    "model.eval()\n",
    "all_preds = []\n",
    "all_probs = []\n",
    "all_labels = []\n",
    "\n",
    "with torch.no_grad():\n",
    "    for batch_x, batch_y in dataloader:\n",
    "        batch_x, batch_y = batch_x.to(device), batch_y.to(device)\n",
    "        outputs = model(batch_x)\n",
    "        probs = torch.softmax(outputs, dim=1)[:, 1].cpu().numpy()\n",
    "        preds = torch.argmax(outputs, dim=1).cpu().numpy()\n",
    "        all_probs.extend(probs)\n",
    "        all_preds.extend(preds)\n",
    "        all_labels.extend(batch_y.cpu().numpy())\n",
    "\n",
    "# AUC score\n",
    "auc = roc_auc_score(all_labels, all_probs)\n",
    "print(f\"AUC: {auc:.4f}\")\n",
    "\n",
    "# ROC curve\n",
    "fpr, tpr, thresholds = roc_curve(all_labels, all_probs)\n",
    "plt.figure()\n",
    "plt.plot(fpr, tpr, label=f'AUC = {auc:.4f}')\n",
    "plt.plot([0, 1], [0, 1], 'k--')\n",
    "plt.xlabel('False Positive Rate')\n",
    "plt.ylabel('True Positive Rate')\n",
    "plt.title('ROC Curve')\n",
    "plt.legend()\n",
    "plt.show()\n",
    "\n",
    "# Confusion matrix\n",
    "cm = confusion_matrix(all_labels, all_preds)\n",
    "\n",
    "disp = ConfusionMatrixDisplay(confusion_matrix=cm)\n",
    "disp.plot(cmap=plt.cm.get_cmap(\"Blues\"))\n",
    "plt.title('Confusion Matrix')\n",
    "plt.show()"
   ]
  },
  {
   "cell_type": "code",
   "execution_count": null,
   "id": "c310d0bc",
   "metadata": {},
   "outputs": [],
   "source": []
  }
 ],
 "metadata": {
  "kernelspec": {
   "display_name": "nlp-disaster-tweets-kaggle-mini-project",
   "language": "python",
   "name": "python3"
  },
  "language_info": {
   "codemirror_mode": {
    "name": "ipython",
    "version": 3
   },
   "file_extension": ".py",
   "mimetype": "text/x-python",
   "name": "python",
   "nbconvert_exporter": "python",
   "pygments_lexer": "ipython3",
   "version": "3.13.5"
  }
 },
 "nbformat": 4,
 "nbformat_minor": 5
}
